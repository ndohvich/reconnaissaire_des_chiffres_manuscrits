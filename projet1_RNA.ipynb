{
  "nbformat": 4,
  "nbformat_minor": 0,
  "metadata": {
    "colab": {
      "name": "projet1_RNA.ipynb",
      "provenance": [],
      "authorship_tag": "ABX9TyMIvG6OAeK4UUM3zJiwjP2t"
    },
    "kernelspec": {
      "name": "python3",
      "display_name": "Python 3"
    },
    "language_info": {
      "name": "python"
    }
  },
  "cells": [
    {
      "cell_type": "code",
      "execution_count": null,
      "metadata": {
        "id": "B3M3JAruViKT"
      },
      "outputs": [],
      "source": [
        ""
      ]
    }
  ]
}